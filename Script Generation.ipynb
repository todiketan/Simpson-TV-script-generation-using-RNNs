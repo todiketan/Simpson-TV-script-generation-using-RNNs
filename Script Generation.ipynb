{
 "cells": [
  {
   "cell_type": "code",
   "execution_count": 12,
   "metadata": {},
   "outputs": [
    {
     "name": "stdout",
     "output_type": "stream",
     "text": [
      "1.0.1\n"
     ]
    }
   ],
   "source": [
    "import tensorflow as tf\n",
    "print(tf.__version__)"
   ]
  },
  {
   "cell_type": "markdown",
   "metadata": {},
   "source": [
    "# TV Script Generation\n",
    "In this project, you'll generate your own [Simpsons](https://en.wikipedia.org/wiki/The_Simpsons) TV scripts using RNNs.  You'll be using part of the [Simpsons dataset](https://www.kaggle.com/wcukierski/the-simpsons-by-the-data) of scripts from 27 seasons.  The Neural Network you'll build will generate a new TV script for a scene at [Moe's Tavern](https://simpsonswiki.com/wiki/Moe's_Tavern).\n",
    "## Get the Data\n",
    "The data is already provided for you.  You'll be using a subset of the original dataset.  It consists of only the scenes in Moe's Tavern.  This doesn't include other versions of the tavern, like \"Moe's Cavern\", \"Flaming Moe's\", \"Uncle Moe's Family Feed-Bag\", etc.."
   ]
  },
  {
   "cell_type": "code",
   "execution_count": 13,
   "metadata": {
    "collapsed": true
   },
   "outputs": [],
   "source": [
    "\"\"\"\n",
    "DON'T MODIFY ANYTHING IN THIS CELL\n",
    "\"\"\"\n",
    "import helper\n",
    "\n",
    "data_dir = './data/simpsons/moes_tavern_lines.txt'\n",
    "text = helper.load_data(data_dir)\n",
    "# Ignore notice, since we don't use it for analysing the data\n",
    "text = text[81:]"
   ]
  },
  {
   "cell_type": "markdown",
   "metadata": {},
   "source": [
    "## Explore the Data\n",
    "Play around with `view_sentence_range` to view different parts of the data."
   ]
  },
  {
   "cell_type": "code",
   "execution_count": 14,
   "metadata": {},
   "outputs": [
    {
     "name": "stdout",
     "output_type": "stream",
     "text": [
      "Dataset Stats\n",
      "Roughly the number of unique words: 11492\n",
      "Number of scenes: 262\n",
      "Average number of sentences in each scene: 15.248091603053435\n",
      "Number of lines: 4257\n",
      "Average number of words in each line: 11.50434578341555\n",
      "\n",
      "The sentences 0 to 10:\n",
      "Moe_Szyslak: (INTO PHONE) Moe's Tavern. Where the elite meet to drink.\n",
      "Bart_Simpson: Eh, yeah, hello, is Mike there? Last name, Rotch.\n",
      "Moe_Szyslak: (INTO PHONE) Hold on, I'll check. (TO BARFLIES) Mike Rotch. Mike Rotch. Hey, has anybody seen Mike Rotch, lately?\n",
      "Moe_Szyslak: (INTO PHONE) Listen you little puke. One of these days I'm gonna catch you, and I'm gonna carve my name on your back with an ice pick.\n",
      "Moe_Szyslak: What's the matter Homer? You're not your normal effervescent self.\n",
      "Homer_Simpson: I got my problems, Moe. Give me another one.\n",
      "Moe_Szyslak: Homer, hey, you should not drink to forget your problems.\n",
      "Barney_Gumble: Yeah, you should only drink to enhance your social skills.\n",
      "\n",
      "\n"
     ]
    }
   ],
   "source": [
    "view_sentence_range = (0, 10)\n",
    "\n",
    "\"\"\"\n",
    "DON'T MODIFY ANYTHING IN THIS CELL\n",
    "\"\"\"\n",
    "import numpy as np\n",
    "\n",
    "print('Dataset Stats')\n",
    "print('Roughly the number of unique words: {}'.format(len({word: None for word in text.split()})))\n",
    "scenes = text.split('\\n\\n')\n",
    "print('Number of scenes: {}'.format(len(scenes)))\n",
    "sentence_count_scene = [scene.count('\\n') for scene in scenes]\n",
    "print('Average number of sentences in each scene: {}'.format(np.average(sentence_count_scene)))\n",
    "\n",
    "sentences = [sentence for scene in scenes for sentence in scene.split('\\n')]\n",
    "print('Number of lines: {}'.format(len(sentences)))\n",
    "word_count_sentence = [len(sentence.split()) for sentence in sentences]\n",
    "print('Average number of words in each line: {}'.format(np.average(word_count_sentence)))\n",
    "\n",
    "print()\n",
    "print('The sentences {} to {}:'.format(*view_sentence_range))\n",
    "print('\\n'.join(text.split('\\n')[view_sentence_range[0]:view_sentence_range[1]]))"
   ]
  },
  {
   "cell_type": "markdown",
   "metadata": {},
   "source": [
    "## Implement Preprocessing Functions\n",
    "The first thing to do to any dataset is preprocessing.  Implement the following preprocessing functions below:\n",
    "- Lookup Table\n",
    "- Tokenize Punctuation\n",
    "\n",
    "### Lookup Table\n",
    "To create a word embedding, you first need to transform the words to ids.  In this function, create two dictionaries:\n",
    "- Dictionary to go from the words to an id, we'll call `vocab_to_int`\n",
    "- Dictionary to go from the id to word, we'll call `int_to_vocab`\n",
    "\n",
    "Return these dictionaries in the following tuple `(vocab_to_int, int_to_vocab)`"
   ]
  },
  {
   "cell_type": "code",
   "execution_count": 15,
   "metadata": {},
   "outputs": [
    {
     "name": "stdout",
     "output_type": "stream",
     "text": [
      "Tests Passed\n"
     ]
    }
   ],
   "source": [
    "import numpy as np\n",
    "import problem_unittests as tests\n",
    "from collections import Counter\n",
    "def create_lookup_tables(text):\n",
    "    \"\"\"\n",
    "    Create lookup tables for vocabulary\n",
    "    :param text: The text of tv scripts split into words\n",
    "    :return: A tuple of dicts (vocab_to_int, int_to_vocab)\n",
    "    \"\"\"\n",
    "    # TODO: Implement Function\n",
    "    #print(text[:100])\n",
    "    vocab_to_int = {}\n",
    "    ctr = 1\n",
    "    for word in text:\n",
    "        if(word not in vocab_to_int):\n",
    "            vocab_to_int[word] = ctr\n",
    "            ctr +=1\n",
    "    int_to_vocab = {v: k for k, v in vocab_to_int.items()}\n",
    "    return vocab_to_int, int_to_vocab\n",
    "\n",
    "\n",
    "\"\"\"\n",
    "DON'T MODIFY ANYTHING IN THIS CELL THAT IS BELOW THIS LINE\n",
    "\"\"\"\n",
    "tests.test_create_lookup_tables(create_lookup_tables)"
   ]
  },
  {
   "cell_type": "markdown",
   "metadata": {},
   "source": [
    "### Tokenize Punctuation\n",
    "We'll be splitting the script into a word array using spaces as delimiters.  However, punctuations like periods and exclamation marks make it hard for the neural network to distinguish between the word \"bye\" and \"bye!\".\n",
    "\n",
    "Implement the function `token_lookup` to return a dict that will be used to tokenize symbols like \"!\" into \"||Exclamation_Mark||\".  Create a dictionary for the following symbols where the symbol is the key and value is the token:\n",
    "- Period ( . )\n",
    "- Comma ( , )\n",
    "- Quotation Mark ( \" )\n",
    "- Semicolon ( ; )\n",
    "- Exclamation mark ( ! )\n",
    "- Question mark ( ? )\n",
    "- Left Parentheses ( ( )\n",
    "- Right Parentheses ( ) )\n",
    "- Dash ( -- )\n",
    "- Return ( \\n )\n",
    "\n",
    "This dictionary will be used to token the symbols and add the delimiter (space) around it.  This separates the symbols as it's own word, making it easier for the neural network to predict on the next word. Make sure you don't use a token that could be confused as a word. Instead of using the token \"dash\", try using something like \"||dash||\"."
   ]
  },
  {
   "cell_type": "code",
   "execution_count": 16,
   "metadata": {},
   "outputs": [
    {
     "name": "stdout",
     "output_type": "stream",
     "text": [
      "Tests Passed\n"
     ]
    }
   ],
   "source": [
    "def token_lookup():\n",
    "    \"\"\"\n",
    "    Generate a dict to turn punctuation into a token.\n",
    "    :return: Tokenize dictionary where the key is the punctuation and the value is the token\n",
    "    \"\"\"\n",
    "    # TODO: Implement Function\n",
    "    punc_to_token = {}\n",
    "    punc_to_token['.'] = \"Period\"\n",
    "    punc_to_token[','] = \"Comma\"\n",
    "    punc_to_token['\"'] = \"Quotation_mark\"\n",
    "    punc_to_token[';'] = \"Semicolon\"\n",
    "    punc_to_token['!'] = \"Exclamation_mark\"\n",
    "    punc_to_token['?'] = \"Question_mark\"\n",
    "    punc_to_token['('] = \"Left_paranthesis\"\n",
    "    punc_to_token[')'] = \"Right_paranthesis\"\n",
    "    punc_to_token['--'] = \"Dash\"\n",
    "    punc_to_token['\\n'] = \"Return\"\n",
    "    return punc_to_token\n",
    "\n",
    "\"\"\"\n",
    "DON'T MODIFY ANYTHING IN THIS CELL THAT IS BELOW THIS LINE\n",
    "\"\"\"\n",
    "tests.test_tokenize(token_lookup)"
   ]
  },
  {
   "cell_type": "markdown",
   "metadata": {},
   "source": [
    "## Preprocess all the data and save it\n",
    "Running the code cell below will preprocess all the data and save it to file."
   ]
  },
  {
   "cell_type": "code",
   "execution_count": 17,
   "metadata": {
    "collapsed": true
   },
   "outputs": [],
   "source": [
    "\"\"\"\n",
    "DON'T MODIFY ANYTHING IN THIS CELL\n",
    "\"\"\"\n",
    "# Preprocess Training, Validation, and Testing Data\n",
    "helper.preprocess_and_save_data(data_dir, token_lookup, create_lookup_tables)"
   ]
  },
  {
   "cell_type": "markdown",
   "metadata": {},
   "source": [
    "# Check Point\n",
    "This is your first checkpoint. If you ever decide to come back to this notebook or have to restart the notebook, you can start from here. The preprocessed data has been saved to disk."
   ]
  },
  {
   "cell_type": "code",
   "execution_count": 18,
   "metadata": {
    "collapsed": true
   },
   "outputs": [],
   "source": [
    "\"\"\"\n",
    "DON'T MODIFY ANYTHING IN THIS CELL\n",
    "\"\"\"\n",
    "import helper\n",
    "import numpy as np\n",
    "import problem_unittests as tests\n",
    "\n",
    "int_text, vocab_to_int, int_to_vocab, token_dict = helper.load_preprocess()"
   ]
  },
  {
   "cell_type": "markdown",
   "metadata": {},
   "source": [
    "## Build the Neural Network\n",
    "You'll build the components necessary to build a RNN by implementing the following functions below:\n",
    "- get_inputs\n",
    "- get_init_cell\n",
    "- get_embed\n",
    "- build_rnn\n",
    "- build_nn\n",
    "- get_batches\n",
    "\n",
    "### Check the Version of TensorFlow and Access to GPU"
   ]
  },
  {
   "cell_type": "code",
   "execution_count": 19,
   "metadata": {},
   "outputs": [
    {
     "name": "stdout",
     "output_type": "stream",
     "text": [
      "TensorFlow Version: 1.0.1\n",
      "Default GPU Device: /gpu:0\n"
     ]
    }
   ],
   "source": [
    "\"\"\"\n",
    "DON'T MODIFY ANYTHING IN THIS CELL\n",
    "\"\"\"\n",
    "from distutils.version import LooseVersion\n",
    "import warnings\n",
    "import tensorflow as tf\n",
    "\n",
    "# Check TensorFlow Version\n",
    "assert LooseVersion(tf.__version__) >= LooseVersion('1.0'), 'Please use TensorFlow version 1.0 or newer'\n",
    "print('TensorFlow Version: {}'.format(tf.__version__))\n",
    "\n",
    "# Check for a GPU\n",
    "if not tf.test.gpu_device_name():\n",
    "    warnings.warn('No GPU found. Please use a GPU to train your neural network.')\n",
    "else:\n",
    "    print('Default GPU Device: {}'.format(tf.test.gpu_device_name()))"
   ]
  },
  {
   "cell_type": "markdown",
   "metadata": {},
   "source": [
    "### Input\n",
    "Implement the `get_inputs()` function to create TF Placeholders for the Neural Network.  It should create the following placeholders:\n",
    "- Input text placeholder named \"input\" using the [TF Placeholder](https://www.tensorflow.org/api_docs/python/tf/placeholder) `name` parameter.\n",
    "- Targets placeholder\n",
    "- Learning Rate placeholder\n",
    "\n",
    "Return the placeholders in the following tuple `(Input, Targets, LearningRate)`"
   ]
  },
  {
   "cell_type": "code",
   "execution_count": 20,
   "metadata": {},
   "outputs": [
    {
     "name": "stdout",
     "output_type": "stream",
     "text": [
      "Tests Passed\n"
     ]
    }
   ],
   "source": [
    "def get_inputs():\n",
    "    \"\"\"\n",
    "    Create TF Placeholders for input, targets, and learning rate.\n",
    "    :return: Tuple (input, targets, learning rate)\n",
    "    \"\"\"\n",
    "    # TODO: Implement Function\n",
    "    inputs = tf.placeholder(dtype=tf.int32,shape=[None,None],name=\"input\")\n",
    "    targets = tf.placeholder(shape=(None,None),dtype=tf.int32,name=\"targets\")\n",
    "    learning_rate = tf.placeholder(dtype=tf.float32,name=\"learning_rate\")\n",
    "    return inputs, targets, learning_rate\n",
    "\n",
    "\n",
    "\"\"\"\n",
    "DON'T MODIFY ANYTHING IN THIS CELL THAT IS BELOW THIS LINE\n",
    "\"\"\"\n",
    "tests.test_get_inputs(get_inputs)"
   ]
  },
  {
   "cell_type": "markdown",
   "metadata": {},
   "source": [
    "### Build RNN Cell and Initialize\n",
    "Stack one or more [`BasicLSTMCells`](https://www.tensorflow.org/api_docs/python/tf/contrib/rnn/BasicLSTMCell) in a [`MultiRNNCell`](https://www.tensorflow.org/api_docs/python/tf/contrib/rnn/MultiRNNCell).\n",
    "- The Rnn size should be set using `rnn_size`\n",
    "- Initalize Cell State using the MultiRNNCell's [`zero_state()`](https://www.tensorflow.org/api_docs/python/tf/contrib/rnn/MultiRNNCell#zero_state) function\n",
    "    - Apply the name \"initial_state\" to the initial state using [`tf.identity()`](https://www.tensorflow.org/api_docs/python/tf/identity)\n",
    "\n",
    "Return the cell and initial state in the following tuple `(Cell, InitialState)`"
   ]
  },
  {
   "cell_type": "code",
   "execution_count": 21,
   "metadata": {},
   "outputs": [
    {
     "name": "stdout",
     "output_type": "stream",
     "text": [
      "Tests Passed\n"
     ]
    }
   ],
   "source": [
    "def get_init_cell(batch_size, rnn_size):\n",
    "    \"\"\"\n",
    "    Create an RNN Cell and initialize it.\n",
    "    :param batch_size: Size of batches\n",
    "    :param rnn_size: Size of RNNs\n",
    "    :return: Tuple (cell, initialize state)\n",
    "    \"\"\"\n",
    "    def build_cell(rnnsize):\n",
    "        return tf.contrib.rnn.BasicLSTMCell(rnnsize)\n",
    "    # TODO: Implement Function\n",
    "    #cell = tf.contrib.rnn.MultiRNNCell([build_cell(rnn_size)])\n",
    "    cell = tf.contrib.rnn.MultiRNNCell([tf.contrib.rnn.BasicLSTMCell(rnn_size)])\n",
    "    initial_state = cell.zero_state(batch_size = batch_size,dtype=tf.float32)\n",
    "    initial_state = tf.identity(initial_state,\"initial_state\")\n",
    "    return (cell, initial_state)\n",
    "\n",
    "\n",
    "\"\"\"\n",
    "DON'T MODIFY ANYTHING IN THIS CELL THAT IS BELOW THIS LINE\n",
    "\"\"\"\n",
    "tests.test_get_init_cell(get_init_cell)"
   ]
  },
  {
   "cell_type": "markdown",
   "metadata": {},
   "source": [
    "### Word Embedding\n",
    "Apply embedding to `input_data` using TensorFlow.  Return the embedded sequence."
   ]
  },
  {
   "cell_type": "code",
   "execution_count": 22,
   "metadata": {},
   "outputs": [
    {
     "name": "stdout",
     "output_type": "stream",
     "text": [
      "Tests Passed\n"
     ]
    }
   ],
   "source": [
    "def get_embed(input_data, vocab_size, embed_dim):\n",
    "    \"\"\"\n",
    "    Create embedding for <input_data>.\n",
    "    :param input_data: TF placeholder for text input.\n",
    "    :param vocab_size: Number of words in vocabulary.\n",
    "    :param embed_dim: Number of embedding dimensions\n",
    "    :return: Embedded input.\n",
    "    \"\"\"\n",
    "    # TODO: Implement Function\n",
    "    #embedding = tf.Variable(tf.random_uniform(shape=[vocab_size,embed_dim],minval=-1,maxval=1))\n",
    "    embed = tf.contrib.layers.embed_sequence(input_data,vocab_size,embed_dim)\n",
    "    #embed = tf.nn.embedding_lookup(embedding,input_data)\n",
    "    return embed\n",
    "\n",
    "\n",
    "\"\"\"\n",
    "DON'T MODIFY ANYTHING IN THIS CELL THAT IS BELOW THIS LINE\n",
    "\"\"\"\n",
    "tests.test_get_embed(get_embed)"
   ]
  },
  {
   "cell_type": "markdown",
   "metadata": {},
   "source": [
    "### Build RNN\n",
    "You created a RNN Cell in the `get_init_cell()` function.  Time to use the cell to create a RNN.\n",
    "- Build the RNN using the [`tf.nn.dynamic_rnn()`](https://www.tensorflow.org/api_docs/python/tf/nn/dynamic_rnn)\n",
    " - Apply the name \"final_state\" to the final state using [`tf.identity()`](https://www.tensorflow.org/api_docs/python/tf/identity)\n",
    "\n",
    "Return the outputs and final_state state in the following tuple `(Outputs, FinalState)` "
   ]
  },
  {
   "cell_type": "code",
   "execution_count": 23,
   "metadata": {},
   "outputs": [
    {
     "name": "stdout",
     "output_type": "stream",
     "text": [
      "Tests Passed\n"
     ]
    }
   ],
   "source": [
    "def build_rnn(cell, inputs):\n",
    "    \"\"\"\n",
    "    Create a RNN using a RNN Cell\n",
    "    :param cell: RNN Cell\n",
    "    :param inputs: Input text data\n",
    "    :return: Tuple (Outputs, Final State)\n",
    "    \"\"\"\n",
    "    # TODO: Implement Function\n",
    "    #get_init_cell(batch_size, rnn_size):\n",
    "    #c1, c2 = \n",
    "    outputs, final_state = tf.nn.dynamic_rnn(cell=cell,inputs=inputs,dtype=tf.float32)\n",
    "    final_state = tf.identity(final_state,\"final_state\")\n",
    "    #print(final_state)\n",
    "    return (outputs,final_state)\n",
    "\n",
    "\n",
    "\"\"\"\n",
    "DON'T MODIFY ANYTHING IN THIS CELL THAT IS BELOW THIS LINE\n",
    "\"\"\"\n",
    "tests.test_build_rnn(build_rnn)"
   ]
  },
  {
   "cell_type": "markdown",
   "metadata": {},
   "source": [
    "### Build the Neural Network\n",
    "Apply the functions you implemented above to:\n",
    "- Apply embedding to `input_data` using your `get_embed(input_data, vocab_size, embed_dim)` function.\n",
    "- Build RNN using `cell` and your `build_rnn(cell, inputs)` function.\n",
    "- Apply a fully connected layer with a linear activation and `vocab_size` as the number of outputs.\n",
    "\n",
    "Return the logits and final state in the following tuple (Logits, FinalState) "
   ]
  },
  {
   "cell_type": "code",
   "execution_count": 24,
   "metadata": {},
   "outputs": [
    {
     "name": "stdout",
     "output_type": "stream",
     "text": [
      "Tests Passed\n"
     ]
    }
   ],
   "source": [
    "def build_nn(cell, rnn_size, input_data, vocab_size, embed_dim):\n",
    "    \"\"\"\n",
    "    Build part of the neural network\n",
    "    :param cell: RNN cell\n",
    "    :param rnn_size: Size of rnns\n",
    "    :param input_data: Input data\n",
    "    :param vocab_size: Vocabulary size\n",
    "    :param embed_dim: Number of embedding dimensions\n",
    "    :return: Tuple (Logits, FinalState)\n",
    "    \"\"\"\n",
    "    # TODO: Implement Function\n",
    "    j = input_data.shape\n",
    "    #print(input_data)\n",
    "    input_data = get_embed(input_data, vocab_size, embed_dim)\n",
    "    #print(input_data)\n",
    "    (outputs, final_state) = build_rnn(cell, input_data)\n",
    "    #print('o',outputs,final_state)\n",
    "    '''\n",
    "    outputs = tf.concat(outputs,axis=1)\n",
    "    outputs = tf.reshape(outputs, shape=[-1,rnn_size])\n",
    "    print(outputs,vocab_size)\n",
    "    fcn_weights = tf.Variable(tf.random_uniform(shape=[rnn_size,vocab_size],dtype=tf.float32))\n",
    "    fcn_bias = tf.Variable(tf.random_uniform(shape=[vocab_size],dtype=tf.float32))\n",
    "    outputs = tf.matmul(outputs,fcn_weights) + fcn_bias\n",
    "    #return tf.transpose(outputs),final_state\n",
    "    outputs = tf.reshape(outputs,shape=[int(j[0]), int(j[1]), vocab_size])'''\n",
    "    o = tf.contrib.layers.fully_connected(outputs, vocab_size, activation_fn=None,weights_initializer=tf.random_normal_initializer(mean=0.0,stddev=0.1))\n",
    "    return (o,final_state)\n",
    "\n",
    "\n",
    "\"\"\"\n",
    "DON'T MODIFY ANYTHING IN THIS CELL THAT IS BELOW THIS LINE\n",
    "\"\"\"\n",
    "tests.test_build_nn(build_nn)"
   ]
  },
  {
   "cell_type": "markdown",
   "metadata": {},
   "source": [
    "### Batches\n",
    "Implement `get_batches` to create batches of input and targets using `int_text`.  The batches should be a Numpy array with the shape `(number of batches, 2, batch size, sequence length)`. Each batch contains two elements:\n",
    "- The first element is a single batch of **input** with the shape `[batch size, sequence length]`\n",
    "- The second element is a single batch of **targets** with the shape `[batch size, sequence length]`\n",
    "\n",
    "If you can't fill the last batch with enough data, drop the last batch.\n",
    "\n",
    "For exmple, `get_batches([1, 2, 3, 4, 5, 6, 7, 8, 9, 10, 11, 12, 13, 14, 15, 16, 17, 18, 19, 20], 3, 2)` would return a Numpy array of the following:\n",
    "```\n",
    "[\n",
    "  # First Batch\n",
    "  [\n",
    "    # Batch of Input\n",
    "    [[ 1  2], [ 7  8], [13 14]]\n",
    "    # Batch of targets\n",
    "    [[ 2  3], [ 8  9], [14 15]]\n",
    "  ]\n",
    "\n",
    "  # Second Batch\n",
    "  [\n",
    "    # Batch of Input\n",
    "    [[ 3  4], [ 9 10], [15 16]]\n",
    "    # Batch of targets\n",
    "    [[ 4  5], [10 11], [16 17]]\n",
    "  ]\n",
    "\n",
    "  # Third Batch\n",
    "  [\n",
    "    # Batch of Input\n",
    "    [[ 5  6], [11 12], [17 18]]\n",
    "    # Batch of targets\n",
    "    [[ 6  7], [12 13], [18  1]]\n",
    "  ]\n",
    "]\n",
    "```\n",
    "\n",
    "Notice that the last target value in the last batch is the first input value of the first batch. In this case, `1`. This is a common technique used when creating sequence batches, although it is rather unintuitive."
   ]
  },
  {
   "cell_type": "code",
   "execution_count": 25,
   "metadata": {},
   "outputs": [
    {
     "name": "stdout",
     "output_type": "stream",
     "text": [
      "Tests Passed\n"
     ]
    }
   ],
   "source": [
    "def get_batches(int_text, batch_size, seq_length):\n",
    "    \"\"\"\n",
    "    Return batches of input and target\n",
    "    :param int_text: Text with the words replaced by their ids\n",
    "    :param batch_size: The size of batch\n",
    "    :param seq_length: The length of sequence\n",
    "    :return: Batches as a Numpy array\n",
    "    \"\"\"\n",
    "    # TODO: Implement Function\n",
    "    no_of_elements = batch_size * seq_length\n",
    "    #print(no_of_elements)\n",
    "    no_of_batch = int(len(int_text)/no_of_elements)\n",
    "    \n",
    "    int_text = int_text[:no_of_batch*no_of_elements]\n",
    "    \n",
    "    int_text = np.asarray(int_text)\n",
    "    y = np.roll(int_text,axis=0,shift=-1)\n",
    "    a = int_text.reshape(-1,seq_length)\n",
    "    y = y.reshape(-1,seq_length)\n",
    "    #print(a.shape)\n",
    "        \n",
    "    input_list = []\n",
    "    output_list = []\n",
    "    for j in range(no_of_batch):\n",
    "        input_list.append(a[j::no_of_batch])\n",
    "        output_list.append(y[j::no_of_batch])\n",
    "    #print(input_list[0][:10],output_list[0][:10])\n",
    "    \n",
    "    arr = np.asarray(input_list)\n",
    "    y = np.asarray(output_list)\n",
    "    #print(arr.shape,y.shape)\n",
    "    t = np.array([arr,y])\n",
    "    t = np.swapaxes(t,0,1)\n",
    "    #print(t.shape,t[0])\n",
    "    return t\n",
    "\n",
    "\n",
    "\"\"\"\n",
    "DON'T MODIFY ANYTHING IN THIS CELL THAT IS BELOW THIS LINE\n",
    "\"\"\"\n",
    "tests.test_get_batches(get_batches)"
   ]
  },
  {
   "cell_type": "code",
   "execution_count": 26,
   "metadata": {},
   "outputs": [
    {
     "data": {
      "text/plain": [
       "'def get_batches(int_text, batch_size, seq_length):\\n    \\n    Return batches of input and target\\n    :param int_text: Text with the words replaced by their ids\\n    :param batch_size: The size of batch\\n    :param seq_length: The length of sequence\\n    :return: Batches as a Numpy array\\n    \\n    print(len(int_text))\\n    y = np.asarray(int_text)\\n    y = np.roll(y,axis=0,shift=-1)\\n    print(y.shape,int_text[:10],y[:10])\\n    no_of_elements = batch_size * seq_length\\n    print(no_of_elements)\\n    no_of_batch = int(len(int_text)/no_of_elements)\\n    print(no_of_batch)\\n    arr = np.asarray(int_text[:no_of_batch*no_of_elements])\\n    y = y[:no_of_batch*no_of_elements]\\n    #print(arr.shape,y.shape,seq_length,batch_size)\\n    arr = arr.T\\n    arr = arr.reshape(-1,batch_size,seq_length)\\n    y = y.reshape(-1,batch_size,seq_length)\\n    #print(arr[0],y[0])\\n    t = np.array([arr,y])\\n    \\n    t = np.swapaxes(t,0,1)\\n    #t = np.stack([arr,y],axis=0)\\n    print(t.shape,t[0])\\n    # TODO: Implement Function\\n    return t\\n\\n\\n'"
      ]
     },
     "execution_count": 26,
     "metadata": {},
     "output_type": "execute_result"
    }
   ],
   "source": [
    "\"\"\"def get_batches(int_text, batch_size, seq_length):\n",
    "    \n",
    "    Return batches of input and target\n",
    "    :param int_text: Text with the words replaced by their ids\n",
    "    :param batch_size: The size of batch\n",
    "    :param seq_length: The length of sequence\n",
    "    :return: Batches as a Numpy array\n",
    "    \n",
    "    print(len(int_text))\n",
    "    y = np.asarray(int_text)\n",
    "    y = np.roll(y,axis=0,shift=-1)\n",
    "    print(y.shape,int_text[:10],y[:10])\n",
    "    no_of_elements = batch_size * seq_length\n",
    "    print(no_of_elements)\n",
    "    no_of_batch = int(len(int_text)/no_of_elements)\n",
    "    print(no_of_batch)\n",
    "    arr = np.asarray(int_text[:no_of_batch*no_of_elements])\n",
    "    y = y[:no_of_batch*no_of_elements]\n",
    "    #print(arr.shape,y.shape,seq_length,batch_size)\n",
    "    arr = arr.T\n",
    "    arr = arr.reshape(-1,batch_size,seq_length)\n",
    "    y = y.reshape(-1,batch_size,seq_length)\n",
    "    #print(arr[0],y[0])\n",
    "    t = np.array([arr,y])\n",
    "    \n",
    "    t = np.swapaxes(t,0,1)\n",
    "    #t = np.stack([arr,y],axis=0)\n",
    "    print(t.shape,t[0])\n",
    "    # TODO: Implement Function\n",
    "    return t\n",
    "\n",
    "\n",
    "\"\"\"\n",
    "#DON'T MODIFY ANYTHING IN THIS CELL THAT IS BELOW THIS LINE\n",
    "#\"\"\"\n",
    "#tests.test_get_batches(get_batches)"
   ]
  },
  {
   "cell_type": "markdown",
   "metadata": {},
   "source": [
    "## Neural Network Training\n",
    "### Hyperparameters\n",
    "Tune the following parameters:\n",
    "\n",
    "- Set `num_epochs` to the number of epochs.\n",
    "- Set `batch_size` to the batch size.\n",
    "- Set `rnn_size` to the size of the RNNs.\n",
    "- Set `embed_dim` to the size of the embedding.\n",
    "- Set `seq_length` to the length of sequence.\n",
    "- Set `learning_rate` to the learning rate.\n",
    "- Set `show_every_n_batches` to the number of batches the neural network should print progress."
   ]
  },
  {
   "cell_type": "code",
   "execution_count": 66,
   "metadata": {
    "collapsed": true
   },
   "outputs": [],
   "source": [
    "# Number of Epochs\n",
    "num_epochs = 37\n",
    "# Batch Size\n",
    "batch_size = 128\n",
    "# RNN Size\n",
    "rnn_size = 256\n",
    "# Embedding Dimension Size\n",
    "embed_dim = 300\n",
    "# Sequence Length\n",
    "seq_length = 10\n",
    "# Learning Rate\n",
    "learning_rate = 0.01\n",
    "# Show stats for every n number of batches\n",
    "show_every_n_batches = 20\n",
    "\n",
    "\"\"\"\n",
    "DON'T MODIFY ANYTHING IN THIS CELL THAT IS BELOW THIS LINE\n",
    "\"\"\"\n",
    "save_dir = './save'"
   ]
  },
  {
   "cell_type": "markdown",
   "metadata": {},
   "source": [
    "### Build the Graph\n",
    "Build the graph using the neural network you implemented."
   ]
  },
  {
   "cell_type": "code",
   "execution_count": 67,
   "metadata": {
    "collapsed": true
   },
   "outputs": [],
   "source": [
    "\"\"\"\n",
    "DON'T MODIFY ANYTHING IN THIS CELL\n",
    "\"\"\"\n",
    "from tensorflow.contrib import seq2seq\n",
    "\n",
    "train_graph = tf.Graph()\n",
    "with train_graph.as_default():\n",
    "    vocab_size = len(int_to_vocab)\n",
    "    input_text, targets, lr = get_inputs()\n",
    "    input_data_shape = tf.shape(input_text)\n",
    "    cell, initial_state = get_init_cell(input_data_shape[0], rnn_size)\n",
    "    logits, final_state = build_nn(cell, rnn_size, input_text, vocab_size, embed_dim)\n",
    "\n",
    "    # Probabilities for generating words\n",
    "    probs = tf.nn.softmax(logits, name='probs')\n",
    "\n",
    "    # Loss function\n",
    "    cost = seq2seq.sequence_loss(\n",
    "        logits,\n",
    "        targets,\n",
    "        tf.ones([input_data_shape[0], input_data_shape[1]]))\n",
    "\n",
    "    # Optimizer\n",
    "    optimizer = tf.train.AdamOptimizer(lr)\n",
    "\n",
    "    # Gradient Clipping\n",
    "    gradients = optimizer.compute_gradients(cost)\n",
    "    capped_gradients = [(tf.clip_by_value(grad, -1., 1.), var) for grad, var in gradients if grad is not None]\n",
    "    train_op = optimizer.apply_gradients(capped_gradients)"
   ]
  },
  {
   "cell_type": "markdown",
   "metadata": {},
   "source": [
    "## Train\n",
    "Train the neural network on the preprocessed data.  If you have a hard time getting a good loss, check the [forums](https://discussions.udacity.com/) to see if anyone is having the same problem."
   ]
  },
  {
   "cell_type": "code",
   "execution_count": 68,
   "metadata": {
    "scrolled": false
   },
   "outputs": [
    {
     "name": "stdout",
     "output_type": "stream",
     "text": [
      "Epoch   0 Batch    0/53   train_loss = 8.821\n",
      "Epoch   0 Batch   20/53   train_loss = 6.165\n",
      "Epoch   0 Batch   40/53   train_loss = 5.626\n",
      "Epoch   1 Batch    7/53   train_loss = 5.198\n",
      "Epoch   1 Batch   27/53   train_loss = 4.931\n",
      "Epoch   1 Batch   47/53   train_loss = 4.566\n",
      "Epoch   2 Batch   14/53   train_loss = 4.539\n",
      "Epoch   2 Batch   34/53   train_loss = 4.333\n",
      "Epoch   3 Batch    1/53   train_loss = 4.168\n",
      "Epoch   3 Batch   21/53   train_loss = 4.270\n",
      "Epoch   3 Batch   41/53   train_loss = 3.925\n",
      "Epoch   4 Batch    8/53   train_loss = 3.861\n",
      "Epoch   4 Batch   28/53   train_loss = 3.700\n",
      "Epoch   4 Batch   48/53   train_loss = 3.638\n",
      "Epoch   5 Batch   15/53   train_loss = 3.639\n",
      "Epoch   5 Batch   35/53   train_loss = 3.446\n",
      "Epoch   6 Batch    2/53   train_loss = 3.399\n",
      "Epoch   6 Batch   22/53   train_loss = 3.381\n",
      "Epoch   6 Batch   42/53   train_loss = 3.068\n",
      "Epoch   7 Batch    9/53   train_loss = 3.162\n",
      "Epoch   7 Batch   29/53   train_loss = 2.947\n",
      "Epoch   7 Batch   49/53   train_loss = 2.958\n",
      "Epoch   8 Batch   16/53   train_loss = 2.807\n",
      "Epoch   8 Batch   36/53   train_loss = 2.722\n",
      "Epoch   9 Batch    3/53   train_loss = 2.699\n",
      "Epoch   9 Batch   23/53   train_loss = 2.596\n",
      "Epoch   9 Batch   43/53   train_loss = 2.510\n",
      "Epoch  10 Batch   10/53   train_loss = 2.349\n",
      "Epoch  10 Batch   30/53   train_loss = 2.221\n",
      "Epoch  10 Batch   50/53   train_loss = 2.282\n",
      "Epoch  11 Batch   17/53   train_loss = 2.113\n",
      "Epoch  11 Batch   37/53   train_loss = 2.127\n",
      "Epoch  12 Batch    4/53   train_loss = 2.129\n",
      "Epoch  12 Batch   24/53   train_loss = 1.876\n",
      "Epoch  12 Batch   44/53   train_loss = 2.008\n",
      "Epoch  13 Batch   11/53   train_loss = 1.936\n",
      "Epoch  13 Batch   31/53   train_loss = 1.805\n",
      "Epoch  13 Batch   51/53   train_loss = 1.730\n",
      "Epoch  14 Batch   18/53   train_loss = 1.709\n",
      "Epoch  14 Batch   38/53   train_loss = 1.698\n",
      "Epoch  15 Batch    5/53   train_loss = 1.596\n",
      "Epoch  15 Batch   25/53   train_loss = 1.675\n",
      "Epoch  15 Batch   45/53   train_loss = 1.554\n",
      "Epoch  16 Batch   12/53   train_loss = 1.474\n",
      "Epoch  16 Batch   32/53   train_loss = 1.382\n",
      "Epoch  16 Batch   52/53   train_loss = 1.441\n",
      "Epoch  17 Batch   19/53   train_loss = 1.404\n",
      "Epoch  17 Batch   39/53   train_loss = 1.329\n",
      "Epoch  18 Batch    6/53   train_loss = 1.336\n",
      "Epoch  18 Batch   26/53   train_loss = 1.138\n",
      "Epoch  18 Batch   46/53   train_loss = 1.258\n",
      "Epoch  19 Batch   13/53   train_loss = 1.223\n",
      "Epoch  19 Batch   33/53   train_loss = 1.173\n",
      "Epoch  20 Batch    0/53   train_loss = 1.135\n",
      "Epoch  20 Batch   20/53   train_loss = 1.116\n",
      "Epoch  20 Batch   40/53   train_loss = 1.113\n",
      "Epoch  21 Batch    7/53   train_loss = 1.030\n",
      "Epoch  21 Batch   27/53   train_loss = 1.074\n",
      "Epoch  21 Batch   47/53   train_loss = 0.995\n",
      "Epoch  22 Batch   14/53   train_loss = 1.005\n",
      "Epoch  22 Batch   34/53   train_loss = 0.973\n",
      "Epoch  23 Batch    1/53   train_loss = 0.927\n",
      "Epoch  23 Batch   21/53   train_loss = 0.902\n",
      "Epoch  23 Batch   41/53   train_loss = 0.912\n",
      "Epoch  24 Batch    8/53   train_loss = 0.888\n",
      "Epoch  24 Batch   28/53   train_loss = 0.936\n",
      "Epoch  24 Batch   48/53   train_loss = 0.854\n",
      "Epoch  25 Batch   15/53   train_loss = 0.892\n",
      "Epoch  25 Batch   35/53   train_loss = 0.869\n",
      "Epoch  26 Batch    2/53   train_loss = 0.827\n",
      "Epoch  26 Batch   22/53   train_loss = 0.836\n",
      "Epoch  26 Batch   42/53   train_loss = 0.803\n",
      "Epoch  27 Batch    9/53   train_loss = 0.735\n",
      "Epoch  27 Batch   29/53   train_loss = 0.782\n",
      "Epoch  27 Batch   49/53   train_loss = 0.734\n",
      "Epoch  28 Batch   16/53   train_loss = 0.733\n",
      "Epoch  28 Batch   36/53   train_loss = 0.822\n",
      "Epoch  29 Batch    3/53   train_loss = 0.730\n",
      "Epoch  29 Batch   23/53   train_loss = 0.736\n",
      "Epoch  29 Batch   43/53   train_loss = 0.720\n",
      "Epoch  30 Batch   10/53   train_loss = 0.690\n",
      "Epoch  30 Batch   30/53   train_loss = 0.734\n",
      "Epoch  30 Batch   50/53   train_loss = 0.672\n",
      "Epoch  31 Batch   17/53   train_loss = 0.639\n",
      "Epoch  31 Batch   37/53   train_loss = 0.656\n",
      "Epoch  32 Batch    4/53   train_loss = 0.692\n",
      "Epoch  32 Batch   24/53   train_loss = 0.615\n",
      "Epoch  32 Batch   44/53   train_loss = 0.708\n",
      "Epoch  33 Batch   11/53   train_loss = 0.670\n",
      "Epoch  33 Batch   31/53   train_loss = 0.659\n",
      "Epoch  33 Batch   51/53   train_loss = 0.657\n",
      "Epoch  34 Batch   18/53   train_loss = 0.647\n",
      "Epoch  34 Batch   38/53   train_loss = 0.709\n",
      "Epoch  35 Batch    5/53   train_loss = 0.668\n",
      "Epoch  35 Batch   25/53   train_loss = 0.645\n",
      "Epoch  35 Batch   45/53   train_loss = 0.675\n",
      "Epoch  36 Batch   12/53   train_loss = 0.649\n",
      "Epoch  36 Batch   32/53   train_loss = 0.619\n",
      "Epoch  36 Batch   52/53   train_loss = 0.670\n",
      "Model Trained and Saved\n"
     ]
    }
   ],
   "source": [
    "\"\"\"\n",
    "DON'T MODIFY ANYTHING IN THIS CELL\n",
    "\"\"\"\n",
    "batches = get_batches(int_text, batch_size, seq_length)\n",
    "\n",
    "with tf.Session(graph=train_graph) as sess:\n",
    "    sess.run(tf.global_variables_initializer())\n",
    "\n",
    "    for epoch_i in range(num_epochs):\n",
    "        state = sess.run(initial_state, {input_text: batches[0][0]})\n",
    "\n",
    "        for batch_i, (x, y) in enumerate(batches):\n",
    "            feed = {\n",
    "                input_text: x,\n",
    "                targets: y,\n",
    "                initial_state: state,\n",
    "                lr: learning_rate}\n",
    "            train_loss, state, _ = sess.run([cost, final_state, train_op], feed)\n",
    "\n",
    "            # Show every <show_every_n_batches> batches\n",
    "            if (epoch_i * len(batches) + batch_i) % show_every_n_batches == 0:\n",
    "                print('Epoch {:>3} Batch {:>4}/{}   train_loss = {:.3f}'.format(\n",
    "                    epoch_i,\n",
    "                    batch_i,\n",
    "                    len(batches),\n",
    "                    train_loss))\n",
    "\n",
    "    # Save Model\n",
    "    saver = tf.train.Saver()\n",
    "    saver.save(sess, save_dir)\n",
    "    print('Model Trained and Saved')"
   ]
  },
  {
   "cell_type": "markdown",
   "metadata": {},
   "source": [
    "## Save Parameters\n",
    "Save `seq_length` and `save_dir` for generating a new TV script."
   ]
  },
  {
   "cell_type": "code",
   "execution_count": 69,
   "metadata": {
    "collapsed": true
   },
   "outputs": [],
   "source": [
    "\"\"\"\n",
    "DON'T MODIFY ANYTHING IN THIS CELL\n",
    "\"\"\"\n",
    "# Save parameters for checkpoint\n",
    "helper.save_params((seq_length, save_dir))"
   ]
  },
  {
   "cell_type": "markdown",
   "metadata": {},
   "source": [
    "# Checkpoint"
   ]
  },
  {
   "cell_type": "code",
   "execution_count": 70,
   "metadata": {
    "collapsed": true
   },
   "outputs": [],
   "source": [
    "\"\"\"\n",
    "DON'T MODIFY ANYTHING IN THIS CELL\n",
    "\"\"\"\n",
    "import tensorflow as tf\n",
    "import numpy as np\n",
    "import helper\n",
    "import problem_unittests as tests\n",
    "\n",
    "_, vocab_to_int, int_to_vocab, token_dict = helper.load_preprocess()\n",
    "seq_length, load_dir = helper.load_params()"
   ]
  },
  {
   "cell_type": "markdown",
   "metadata": {},
   "source": [
    "## Implement Generate Functions\n",
    "### Get Tensors\n",
    "Get tensors from `loaded_graph` using the function [`get_tensor_by_name()`](https://www.tensorflow.org/api_docs/python/tf/Graph#get_tensor_by_name).  Get the tensors using the following names:\n",
    "- \"input:0\"\n",
    "- \"initial_state:0\"\n",
    "- \"final_state:0\"\n",
    "- \"probs:0\"\n",
    "\n",
    "Return the tensors in the following tuple `(InputTensor, InitialStateTensor, FinalStateTensor, ProbsTensor)` "
   ]
  },
  {
   "cell_type": "code",
   "execution_count": 71,
   "metadata": {},
   "outputs": [
    {
     "name": "stdout",
     "output_type": "stream",
     "text": [
      "Tests Passed\n"
     ]
    }
   ],
   "source": [
    "def get_tensors(loaded_graph):\n",
    "    \"\"\"\n",
    "    Get input, initial state, final state, and probabilities tensor from <loaded_graph>\n",
    "    :param loaded_graph: TensorFlow graph loaded from file\n",
    "    :return: Tuple (InputTensor, InitialStateTensor, FinalStateTensor, ProbsTensor)\n",
    "    \"\"\"\n",
    "    # TODO: Implement Function\n",
    "    p1 = loaded_graph.get_tensor_by_name(\"input:0\")\n",
    "    p2 = loaded_graph.get_tensor_by_name(\"initial_state:0\")\n",
    "    p3 = loaded_graph.get_tensor_by_name(\"final_state:0\")\n",
    "    p4 = loaded_graph.get_tensor_by_name(\"probs:0\")\n",
    "    return p1,p2,p3,p4\n",
    "\n",
    "\n",
    "\"\"\"\n",
    "DON'T MODIFY ANYTHING IN THIS CELL THAT IS BELOW THIS LINE\n",
    "\"\"\"\n",
    "tests.test_get_tensors(get_tensors)"
   ]
  },
  {
   "cell_type": "markdown",
   "metadata": {},
   "source": [
    "### Choose Word\n",
    "Implement the `pick_word()` function to select the next word using `probabilities`."
   ]
  },
  {
   "cell_type": "code",
   "execution_count": 72,
   "metadata": {},
   "outputs": [
    {
     "name": "stdout",
     "output_type": "stream",
     "text": [
      "Tests Passed\n"
     ]
    }
   ],
   "source": [
    "def pick_word(probabilities, int_to_vocab):\n",
    "    \"\"\"\n",
    "    Pick the next word in the generated text\n",
    "    :param probabilities: Probabilites of the next word\n",
    "    :param int_to_vocab: Dictionary of word ids as the keys and words as the values\n",
    "    :return: String of the predicted word\n",
    "    \"\"\"\n",
    "    # TODO: Implement Function\n",
    "    #print(probabilities)\n",
    "    a = np.argmax(probabilities)\n",
    "    #print(a,int_to_vocab)\n",
    "    return int_to_vocab[a]\n",
    "\n",
    "\n",
    "\"\"\"\n",
    "DON'T MODIFY ANYTHING IN THIS CELL THAT IS BELOW THIS LINE\n",
    "\"\"\"\n",
    "tests.test_pick_word(pick_word)"
   ]
  },
  {
   "cell_type": "markdown",
   "metadata": {},
   "source": [
    "## Generate TV Script\n",
    "This will generate the TV script for you.  Set `gen_length` to the length of TV script you want to generate."
   ]
  },
  {
   "cell_type": "code",
   "execution_count": 73,
   "metadata": {},
   "outputs": [
    {
     "name": "stdout",
     "output_type": "stream",
     "text": [
      "moe_szyslak:(pulls out a shotgun) that is the wrong thing.\n",
      "moe_szyslak: hey, moe, can you say the alphabet backwards?\n",
      "moe_szyslak: are you?\n",
      "lenny_leonard: what?\n",
      "lenny_leonard: just think it's too. i wish mr. burns hated humanity.\n",
      "homer_simpson: i never thought of that. bite my tongue.(bites tongue) oooh.\n",
      "marge_simpson: that does sound like homer.\n",
      "homer_simpson:(drunk, remorseful) i can't believe they had a good friend.\n",
      "moe_szyslak:(chuckles) i don't have.\n",
      "homer_simpson:(incredulous) moe? wrecking moe's bar, booze and have more than i thought...(first head) from that voice.\n",
      "\n",
      "\n",
      "moe_szyslak: that's right. i think it's really comin' down.\n",
      "homer_simpson:(small smile, sighs) i haven't eaten all day.\n",
      "moe_szyslak:(lowers gun) hear me, homer.\n",
      "homer_simpson: thanks, moe.\n",
      "moe_szyslak: yeah.\n",
      "homer_simpson: and if it's such a(air.\n",
      "barney_gumble:(pained moan) a little embarrassed) i ain't\n"
     ]
    }
   ],
   "source": [
    "gen_length = 200\n",
    "# homer_simpson, moe_szyslak, or Barney_Gumble\n",
    "prime_word = 'moe_szyslak'\n",
    "\n",
    "\"\"\"\n",
    "DON'T MODIFY ANYTHING IN THIS CELL THAT IS BELOW THIS LINE\n",
    "\"\"\"\n",
    "loaded_graph = tf.Graph()\n",
    "with tf.Session(graph=loaded_graph) as sess:\n",
    "    # Load saved model\n",
    "    loader = tf.train.import_meta_graph(load_dir + '.meta')\n",
    "    loader.restore(sess, load_dir)\n",
    "\n",
    "    # Get Tensors from loaded model\n",
    "    input_text, initial_state, final_state, probs = get_tensors(loaded_graph)\n",
    "\n",
    "    # Sentences generation setup\n",
    "    gen_sentences = [prime_word + ':']\n",
    "    prev_state = sess.run(initial_state, {input_text: np.array([[1]])})\n",
    "\n",
    "    # Generate sentences\n",
    "    for n in range(gen_length):\n",
    "        # Dynamic Input\n",
    "        dyn_input = [[vocab_to_int[word] for word in gen_sentences[-seq_length:]]]\n",
    "        dyn_seq_length = len(dyn_input[0])\n",
    "\n",
    "        # Get Prediction\n",
    "        probabilities, prev_state = sess.run(\n",
    "            [probs, final_state],\n",
    "            {input_text: dyn_input, initial_state: prev_state})\n",
    "        \n",
    "        #print(probabilities.shape,dyn_seq_length-1)\n",
    "        pred_word = pick_word(probabilities[dyn_seq_length-1], int_to_vocab)\n",
    "\n",
    "        gen_sentences.append(pred_word)\n",
    "    \n",
    "    # Remove tokens\n",
    "    tv_script = ' '.join(gen_sentences)\n",
    "    for key, token in token_dict.items():\n",
    "        ending = ' ' if key in ['\\n', '(', '\"'] else ''\n",
    "        tv_script = tv_script.replace(' ' + token.lower(), key)\n",
    "    tv_script = tv_script.replace('\\n ', '\\n')\n",
    "    tv_script = tv_script.replace('( ', '(')\n",
    "        \n",
    "    print(tv_script)"
   ]
  },
  {
   "cell_type": "markdown",
   "metadata": {},
   "source": [
    "# The TV Script is Nonsensical\n",
    "It's ok if the TV script doesn't make any sense.  We trained on less than a megabyte of text.  In order to get good results, you'll have to use a smaller vocabulary or get more data.  Luckly there's more data!  As we mentioned in the begging of this project, this is a subset of [another dataset](https://www.kaggle.com/wcukierski/the-simpsons-by-the-data).  We didn't have you train on all the data, because that would take too long.  However, you are free to train your neural network on all the data.  After you complete the project, of course.\n",
    "# Submitting This Project\n",
    "When submitting this project, make sure to run all the cells before saving the notebook. Save the notebook file as \"dlnd_tv_script_generation.ipynb\" and save it as a HTML file under \"File\" -> \"Download as\". Include the \"helper.py\" and \"problem_unittests.py\" files in your submission."
   ]
  }
 ],
 "metadata": {
  "kernelspec": {
   "display_name": "Python [default]",
   "language": "python",
   "name": "python3"
  },
  "language_info": {
   "codemirror_mode": {
    "name": "ipython",
    "version": 3
   },
   "file_extension": ".py",
   "mimetype": "text/x-python",
   "name": "python",
   "nbconvert_exporter": "python",
   "pygments_lexer": "ipython3",
   "version": "3.6.2"
  },
  "widgets": {
   "state": {},
   "version": "1.1.2"
  }
 },
 "nbformat": 4,
 "nbformat_minor": 1
}
